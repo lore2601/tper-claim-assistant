{
 "cells": [
  {
   "cell_type": "code",
   "execution_count": null,
   "metadata": {},
   "outputs": [],
   "source": [
    "#https://hellobuswsweb.tper.it/web-services/hello-bus.asmx"
   ]
  },
  {
   "cell_type": "code",
   "execution_count": 4,
   "metadata": {},
   "outputs": [
    {
     "name": "stdout",
     "output_type": "stream",
     "text": [
      "<?xml version=\"1.0\" encoding=\"utf-8\"?>\n",
      "<string xmlns=\"https://hellobuswsweb.tper.it/web-services/hellobus.asmx\">TperHellobus: (x10:00) 11B Previsto 10:12 (Bus2663 CON PEDANA), 11B Previsto 10:28</string>\n"
     ]
    }
   ],
   "source": [
    "import requests\n",
    "import datetime\n",
    "\n",
    "url = \"https://hellobuswsweb.tper.it/web-services/hello-bus.asmx/QueryHellobus\"\n",
    "stop = \"4476\"\n",
    "line = \"11\"\n",
    "hour = datetime.datetime.now().strftime('%H:%M')\n",
    "\n",
    "headers={'Content-Type': 'application/x-www-form-urlencoded'}\n",
    "\n",
    "data = {\n",
    "    'fermata': stop,\n",
    "    'linea': line,\n",
    "    'oraHHMM': hour\n",
    "}\n",
    "response = requests.post(url, data=data, headers=headers)\n",
    "print(response.text)"
   ]
  },
  {
   "cell_type": "code",
   "execution_count": 10,
   "metadata": {},
   "outputs": [
    {
     "name": "stdout",
     "output_type": "stream",
     "text": [
      "<?xml version=\"1.0\" encoding=\"utf-8\"?>\n",
      "<string xmlns=\"https://hellobuswsweb.tper.it/web-services/hellobus.asmx\">0\n",
      "TperHellobus: (x10:00) 11B Previsto 10:12 (Bus2663 CON PEDANA), 11B Previsto 10:28\n",
      "11B1012P11B1028P\n",
      "\n",
      "</string>\n"
     ]
    }
   ],
   "source": [
    "import requests\n",
    "import datetime\n",
    "\n",
    "url = \"https://hellobuswsweb.tper.it/web-services/hello-bus.asmx/QueryHellobus4ivr\"\n",
    "stop = \"4476\"\n",
    "line = \"11\"\n",
    "hour = datetime.datetime.now().strftime('%H:%M')\n",
    "\n",
    "headers={'Content-Type': 'application/x-www-form-urlencoded'}\n",
    "\n",
    "data = {\n",
    "    'fermata': stop,\n",
    "    'linea': line,\n",
    "    'oraHHMM': hour\n",
    "}\n",
    "response = requests.post(url, data=data, headers=headers)\n",
    "print(response.text)"
   ]
  },
  {
   "cell_type": "code",
   "execution_count": null,
   "metadata": {},
   "outputs": [
    {
     "name": "stdout",
     "output_type": "stream",
     "text": [
      "<?xml version=\"1.0\" encoding=\"utf-8\"?>\n",
      "<string xmlns=\"https://hellobuswsweb.tper.it/web-services/hellobus.asmx\">{\"AllBusLd\": [{\"matricola\": \"01234\",\"livello\": \"basso\"}, {\"matricola\": \"05678\", \"livello\": \"medio\"}, {\"matricola\": \"09012\", \"livello\": \"alto\"} ]}</string>\n"
     ]
    }
   ],
   "source": [
    "import requests\n",
    "import datetime\n",
    "\n",
    "url = \"https://hellobuswsweb.tper.it/web-services/hello-bus.asmx/QueryAllBusLd\"\n",
    "stop = \"4476\"\n",
    "line = \"11\"\n",
    "hour = datetime.datetime.now().strftime('%H:%M')\n",
    "\n",
    "headers={'Content-Type': 'application/x-www-form-urlencoded'}\n",
    "\n",
    "data = {\n",
    "    'fermata': stop,\n",
    "    'linea': line,\n",
    "    'oraHHMM': hour\n",
    "}\n",
    "response = requests.post(url, data=data, headers=headers)\n",
    "print(response.text)"
   ]
  },
  {
   "cell_type": "code",
   "execution_count": 8,
   "metadata": {},
   "outputs": [
    {
     "name": "stdout",
     "output_type": "stream",
     "text": [
      "<?xml version=\"1.0\" encoding=\"utf-8\"?>\n",
      "<string xmlns=\"https://hellobuswsweb.tper.it/web-services/hellobus.asmx\">FORBIDDEN</string>\n"
     ]
    }
   ],
   "source": [
    "import requests\n",
    "import datetime\n",
    "\n",
    "url = \"https://hellobuswsweb.tper.it/web-services/hello-bus.asmx/QueryHellobusLd\"\n",
    "stop = \"4476\"\n",
    "line = \"11\"\n",
    "hour = datetime.datetime.now().strftime('%H:%M')\n",
    "\n",
    "headers={'Content-Type': 'application/x-www-form-urlencoded'}\n",
    "\n",
    "data = {\n",
    "    'fermata': stop,\n",
    "    'linea': line,\n",
    "    'oraHHMM': hour\n",
    "}\n",
    "response = requests.post(url, data=data, headers=headers)\n",
    "print(response.text)"
   ]
  },
  {
   "cell_type": "code",
   "execution_count": 9,
   "metadata": {},
   "outputs": [
    {
     "name": "stdout",
     "output_type": "stream",
     "text": [
      "<?xml version=\"1.0\" encoding=\"utf-8\"?>\n",
      "<string xmlns=\"https://hellobuswsweb.tper.it/web-services/hellobus.asmx\">Rivendita a 260m da fermata 4476: LA TABACCHERIA DI SALVATI MATTEO, VIA DELL'ARCOVEGGIO 5, BOLOGNA</string>\n"
     ]
    }
   ],
   "source": [
    "import requests\n",
    "import datetime\n",
    "\n",
    "url = \"https://hellobuswsweb.tper.it/web-services/hello-bus.asmx/QueryResale\"\n",
    "stop = \"4476\"\n",
    "line = \"11\"\n",
    "hour = datetime.datetime.now().strftime('%H:%M')\n",
    "\n",
    "headers={'Content-Type': 'application/x-www-form-urlencoded'}\n",
    "\n",
    "data = {\n",
    "    'fermata': stop,\n",
    "}\n",
    "response = requests.post(url, data=data, headers=headers)\n",
    "print(response.text)"
   ]
  }
 ],
 "metadata": {
  "kernelspec": {
   "display_name": ".venv",
   "language": "python",
   "name": "python3"
  },
  "language_info": {
   "codemirror_mode": {
    "name": "ipython",
    "version": 3
   },
   "file_extension": ".py",
   "mimetype": "text/x-python",
   "name": "python",
   "nbconvert_exporter": "python",
   "pygments_lexer": "ipython3",
   "version": "3.12.3"
  }
 },
 "nbformat": 4,
 "nbformat_minor": 2
}
