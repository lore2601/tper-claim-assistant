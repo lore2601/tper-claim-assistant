{
 "cells": [
  {
   "cell_type": "markdown",
   "metadata": {},
   "source": [
    "# Reclami"
   ]
  },
  {
   "cell_type": "markdown",
   "metadata": {},
   "source": [
    "## Inputs"
   ]
  },
  {
   "cell_type": "code",
   "execution_count": 2,
   "metadata": {},
   "outputs": [],
   "source": [
    "from pydantic_settings import BaseSettings, SettingsConfigDict\n",
    "\n",
    "ENV_FILE = \".env\"\n",
    "\n",
    "class PersonalData(BaseSettings):\n",
    "\n",
    "    model_config = SettingsConfigDict(env_file=ENV_FILE)\n",
    "\n",
    "    user_surname: str\n",
    "    user_name: str\n",
    "    gender: str\n",
    "    birth_date: str\n",
    "    birth_nation: str\n",
    "    comune_nascita: str\n",
    "    codice_fiscale: str\n",
    "    address: str\n",
    "    house_number: str\n",
    "    cap: str\n",
    "    nation: str\n",
    "    provincia: str\n",
    "    comune: str\n",
    "    location: str\n",
    "    email: str\n",
    "    phone_number: str\n",
    "    enable_phone_number_to_be_contacted: bool \n",
    "\n",
    "pd = PersonalData()\n",
    "\n",
    "# Dati comunicazione\n",
    "service_type = \"\"  # Servizio bus\n",
    "tipologia = \"\"  # Servizio\n",
    "categoria = \"\" # [Corsa non effettuata, Frequenza o orario non rispettato]\n",
    "bacino = \"\"  # Bologna\n",
    "linea = \"\"  # 20\n",
    "direzione = \"\"  # Pilastro Rotonda Malaguti\n",
    "matricola_veicolo = \"\"\n",
    "matricola_conducente = \"\"\n",
    "data = \"\"  # 11/11/2024\n",
    "ora = \"\"  # 09:11\n",
    "luogo = \"\"  # fermata N xxxx\n",
    "testo = \"\"\"\"\"\"  # testo del reclamo\n",
    "\n",
    "enable_indennizzo = True  # Try always\n",
    "\n",
    "# Riepilogo\n",
    "privacy = True"
   ]
  },
  {
   "cell_type": "code",
   "execution_count": 1,
   "metadata": {},
   "outputs": [
    {
     "data": {
      "text/plain": [
       "<Response url='https://solweb.tper.it/web/communications/complaints.aspx' request=<Request url='https://solweb.tper.it/web/communications/complaints.aspx' method='GET'>>"
      ]
     },
     "execution_count": 1,
     "metadata": {},
     "output_type": "execute_result"
    }
   ],
   "source": [
    "from playwright.async_api import async_playwright\n",
    "import time\n",
    "\n",
    "url = \"https://solweb.tper.it/web/communications/complaints.aspx\"\n",
    "\n",
    "playwright = await async_playwright().start()\n",
    "\n",
    "browser = await playwright.chromium.launch(headless=False)\n",
    "page = await browser.new_page()\n",
    "\n",
    "await page.goto(url)"
   ]
  },
  {
   "cell_type": "markdown",
   "metadata": {},
   "source": [
    "# Rifiuta cookie non necessari"
   ]
  },
  {
   "cell_type": "code",
   "execution_count": null,
   "metadata": {},
   "outputs": [],
   "source": [
    "cookie_class = \"a.c-cookie-banner-header-refuse-btn\"\n",
    "await page.click(cookie_class, timeout=1000)\n",
    "time.sleep(0.5)"
   ]
  },
  {
   "cell_type": "markdown",
   "metadata": {},
   "source": [
    "# Dati anagrafici"
   ]
  },
  {
   "cell_type": "code",
   "execution_count": 3,
   "metadata": {},
   "outputs": [],
   "source": [
    "# text fields\n",
    "surname_id = '#ctl00_ContentPlaceHolderMain_txtCognome'\n",
    "name_id = \"#ctl00_ContentPlaceHolderMain_txtNome\"\n",
    "birth_date_id = \"#ctl00_ContentPlaceHolderMain_txtDataNascita_dateInput\"\n",
    "birth_nation_id = \"#ctl00_ContentPlaceHolderMain_cboNazioneNascita_Input\"\n",
    "comune_nascita_id = \"#ctl00_ContentPlaceHolderMain_cboComuneNascita_Input\"\n",
    "codice_fiscale_id = \"#ctl00_ContentPlaceHolderMain_txtCodiceFiscale\"\n",
    "address_id = \"#ctl00_ContentPlaceHolderMain_txtIndirizzo\"\n",
    "house_number_id = \"#ctl00_ContentPlaceHolderMain_txtNumeroCivico\"\n",
    "cap_id = \"#ctl00_ContentPlaceHolderMain_txtCap\"\n",
    "nation_id = \"#ctl00_ContentPlaceHolderMain_cboNazione_Input\"\n",
    "provincia_id = \"#ctl00_ContentPlaceHolderMain_cboProvincia_Input\"\n",
    "comune_id = \"#ctl00_ContentPlaceHolderMain_cboComune_Input\"\n",
    "location_id = \"#ctl00_ContentPlaceHolderMain_txtLocalita\"\n",
    "email_id = \"#ctl00_ContentPlaceHolderMain_txtEmail\"\n",
    "phone_number_id = \"#ctl00_ContentPlaceHolderMain_txtTelefonoCellulare\"\n",
    "\n",
    "text_fields = [\n",
    "    (surname_id, pd.user_surname),\n",
    "    (name_id, pd.user_name),\n",
    "    (birth_date_id, pd.birth_date),\n",
    "    (birth_nation_id, pd.birth_nation),\n",
    "    (comune_nascita_id, pd.comune_nascita),\n",
    "    (codice_fiscale_id, pd.codice_fiscale),\n",
    "    (address_id, pd.address),\n",
    "    (house_number_id, pd.house_number),\n",
    "    (cap_id, pd.cap),\n",
    "    (nation_id, pd.nation),\n",
    "    (provincia_id, pd.provincia),\n",
    "    (comune_id, pd.comune),\n",
    "    (location_id, pd.location),\n",
    "    (email_id, pd.email),\n",
    "    (phone_number_id, pd.phone_number),\n",
    "]\n",
    "\n",
    "for tf in text_fields:\n",
    "    await page.fill(tf[0], tf[1])\n",
    "    time.sleep(0.5)\n",
    "    await page.click(selector=\"body\", position={'x': 0, 'y': page.viewport_size['height']})\n",
    "    time.sleep(0.5)"
   ]
  },
  {
   "cell_type": "code",
   "execution_count": 4,
   "metadata": {},
   "outputs": [],
   "source": [
    "# radio buttons\n",
    "# subject_type_id = \"#ContentPlaceHolderMain_rbtlstTipoSoggetto_0\"\n",
    "gender_id = \"#ContentPlaceHolderMain_rbtlstSesso_0\"\n",
    "\n",
    "if pd.gender == \"M\":\n",
    "    gender_id = gender_id[:-1] + \"1\"\n",
    "\n",
    "await page.check(gender_id)"
   ]
  },
  {
   "cell_type": "code",
   "execution_count": 5,
   "metadata": {},
   "outputs": [],
   "source": [
    "# check buttons\n",
    "enable_phone_number_to_be_contacted_id = \"#ContentPlaceHolderMain_chkModalitaRispostaTelefonica\"\n",
    "\n",
    "if pd.enable_phone_number_to_be_contacted:\n",
    "    await page.check(enable_phone_number_to_be_contacted_id)\n",
    "else:\n",
    "    await page.uncheck(enable_phone_number_to_be_contacted_id)"
   ]
  },
  {
   "cell_type": "code",
   "execution_count": 6,
   "metadata": {},
   "outputs": [],
   "source": [
    "# submit button\n",
    "submit_button_id = \"#ctl00_ContentPlaceHolderMain_btAvanti1_input\"\n",
    "\n",
    "await page.click(submit_button_id)\n",
    "time.sleep(0.5)"
   ]
  },
  {
   "cell_type": "markdown",
   "metadata": {},
   "source": [
    "# Dati comunicazione"
   ]
  },
  {
   "cell_type": "code",
   "execution_count": 7,
   "metadata": {},
   "outputs": [],
   "source": [
    "async def get_li_pos(\n",
    "    dropdown_id: str,\n",
    "    input_text: str\n",
    ") -> int:\n",
    "    li = page.locator(dropdown_id)\n",
    "    time.sleep(0.5)\n",
    "    handles = await li.locator('ul > li').element_handles()\n",
    "\n",
    "    for idx, h in enumerate(handles):\n",
    "        t = await h.inner_text()\n",
    "        if t.strip().lower() == input_text.lower():\n",
    "            return idx+1\n",
    "        \n",
    "    raise Exception(\"choice '{}' not found!\".format(input_text))"
   ]
  },
  {
   "cell_type": "code",
   "execution_count": 8,
   "metadata": {},
   "outputs": [],
   "source": [
    "# Dropdown\n",
    "service_type_id = \"#ctl00_ContentPlaceHolderMain_ddlstTipoServizio\"\n",
    "service_type_dropdown_id = \"#ctl00_ContentPlaceHolderMain_ddlstTipoServizio_DropDown\"\n",
    "tipologia_id = \"#ctl00_ContentPlaceHolderMain_ddlstTipologiaComunicazione\"\n",
    "tipologia_dropdown_id = \"#ctl00_ContentPlaceHolderMain_ddlstTipologiaComunicazione_DropDown\"\n",
    "categoria_id = \"#ctl00_ContentPlaceHolderMain_ddlstCategoriaComunicazione\"\n",
    "categoria_dropdown_id = \"#ctl00_ContentPlaceHolderMain_ddlstCategoriaComunicazione_DropDown\"\n",
    "bacino_id = \"#ctl00_ContentPlaceHolderMain_ddlstBacinoAutomobilistico\"\n",
    "bacino_dropdown_id = \"#ctl00_ContentPlaceHolderMain_ddlstBacinoAutomobilistico_DropDown\"\n",
    "linea_id = \"#ctl00_ContentPlaceHolderMain_ddlstLineaAutomobilistica\"\n",
    "linea_dropdown_id = \"#ctl00_ContentPlaceHolderMain_ddlstLineaAutomobilistica_DropDown\"\n",
    "\n",
    "dropdown = [\n",
    "    (service_type_id, service_type_dropdown_id, service_type),\n",
    "    (tipologia_id, tipologia_dropdown_id, tipologia),\n",
    "    (categoria_id, categoria_dropdown_id, categoria),\n",
    "    (bacino_id, bacino_dropdown_id, bacino),\n",
    "    (linea_id, linea_dropdown_id, linea)\n",
    "]\n",
    "\n",
    "for d in dropdown:\n",
    "    await page.click(d[0])\n",
    "    time.sleep(0.5)\n",
    "    li = (page\n",
    "        .locator(d[1])\n",
    "        .locator('ul > li:nth-child({})'.format(await get_li_pos(d[1], d[2]))))\n",
    "    time.sleep(0.5)\n",
    "    await li.click(timeout=10000)"
   ]
  },
  {
   "cell_type": "code",
   "execution_count": 9,
   "metadata": {},
   "outputs": [],
   "source": [
    "# text fields\n",
    "direzione_id = \"#ctl00_ContentPlaceHolderMain_txtDirezioneVeicolo\"\n",
    "matricola_veicolo_id = \"#ctl00_ContentPlaceHolderMain_txtMatricolaVeicolo\"\n",
    "matricola_conducente_id = \"#ctl00_ContentPlaceHolderMain_txtMatricolaConducente\"\n",
    "data_id = \"#ctl00_ContentPlaceHolderMain_txtDataEvento_dateInput\"\n",
    "ora_id = \"#ctl00_ContentPlaceHolderMain_txtOraEvento_dateInput\"\n",
    "luogo_id = \"#ctl00_ContentPlaceHolderMain_txtLuogoEvento\"\n",
    "testo_id = \"#ctl00_ContentPlaceHolderMain_txtTesto\"\n",
    "\n",
    "text_fields = [\n",
    "    (direzione_id, direzione),\n",
    "    (matricola_veicolo_id, matricola_veicolo),\n",
    "    (matricola_conducente_id, matricola_conducente),\n",
    "    (data_id, data),\n",
    "    (ora_id, ora),\n",
    "    (luogo_id, luogo),\n",
    "    (testo_id, testo),\n",
    "]\n",
    "\n",
    "for tf in text_fields:\n",
    "    await page.fill(tf[0], tf[1])\n",
    "    time.sleep(0.5)\n",
    "    await page.click(selector=\"body\", position={'x': 0, 'y': page.viewport_size['height']})\n",
    "    time.sleep(0.5)"
   ]
  },
  {
   "cell_type": "code",
   "execution_count": 10,
   "metadata": {},
   "outputs": [],
   "source": [
    "# check buttons\n",
    "enable_indennizzo_id = \"#ContentPlaceHolderMain_chkRimborso\"\n",
    "\n",
    "if enable_indennizzo:\n",
    "    await page.check(enable_indennizzo_id)\n",
    "else:\n",
    "    await page.uncheck(enable_indennizzo_id)"
   ]
  },
  {
   "cell_type": "code",
   "execution_count": 11,
   "metadata": {},
   "outputs": [],
   "source": [
    "# submit button\n",
    "submit_button_id = \"#ctl00_ContentPlaceHolderMain_btAvanti2_input\"\n",
    "\n",
    "await page.click(submit_button_id)\n",
    "time.sleep(0.5)"
   ]
  },
  {
   "cell_type": "markdown",
   "metadata": {},
   "source": [
    "# Riepilogo"
   ]
  },
  {
   "cell_type": "code",
   "execution_count": 12,
   "metadata": {},
   "outputs": [],
   "source": [
    "# check buttons\n",
    "privacy_id = \"#ContentPlaceHolderMain_chkConsensoPrivacy\"\n",
    "await page.check(privacy_id)"
   ]
  },
  {
   "cell_type": "code",
   "execution_count": 13,
   "metadata": {},
   "outputs": [],
   "source": [
    "# submit button\n",
    "submit_button_id = \"#ctl00_ContentPlaceHolderMain_btAvanti3_input\"\n",
    "\n",
    "await page.click(submit_button_id)\n",
    "time.sleep(0.5)"
   ]
  },
  {
   "cell_type": "markdown",
   "metadata": {},
   "source": [
    "# Close"
   ]
  },
  {
   "cell_type": "code",
   "execution_count": 14,
   "metadata": {},
   "outputs": [],
   "source": [
    "await browser.close()\n",
    "await playwright.stop()"
   ]
  }
 ],
 "metadata": {
  "kernelspec": {
   "display_name": ".venv",
   "language": "python",
   "name": "python3"
  },
  "language_info": {
   "codemirror_mode": {
    "name": "ipython",
    "version": 3
   },
   "file_extension": ".py",
   "mimetype": "text/x-python",
   "name": "python",
   "nbconvert_exporter": "python",
   "pygments_lexer": "ipython3",
   "version": "3.12.3"
  }
 },
 "nbformat": 4,
 "nbformat_minor": 2
}
